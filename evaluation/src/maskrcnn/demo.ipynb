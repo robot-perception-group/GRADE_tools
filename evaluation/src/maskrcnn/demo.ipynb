{
 "cells": [
  {
   "cell_type": "markdown",
   "metadata": {},
   "source": [
    "# Mask R-CNN Demo\n",
    "\n",
    "A quick intro to using the pre-trained model to detect and segment objects."
   ]
  },
  {
   "cell_type": "code",
   "execution_count": null,
   "metadata": {},
   "outputs": [],
   "source": [
    "import os\n",
    "import sys\n",
    "import random\n",
    "import math\n",
    "import numpy as np\n",
    "import skimage.io\n",
    "import matplotlib\n",
    "import matplotlib.pyplot as plt"
   ]
  },
  {
   "cell_type": "code",
   "execution_count": null,
   "metadata": {},
   "outputs": [],
   "source": [
    "# Root directory of the project\n",
    "ROOT_DIR = os.path.abspath(\"../\")\n",
    "\n",
    "# Import Mask RCNN\n",
    "sys.path.append(ROOT_DIR)  # To find local version of the library\n",
    "\n",
    "from mrcnn import utils\n",
    "import mrcnn.model as modellib\n",
    "from mrcnn import visualize\n",
    "\n",
    "# Import COCO config\n",
    "sys.path.append(os.path.join(ROOT_DIR, \"samples/coco/\"))  # To find local version\n",
    "import coco\n",
    "\n",
    "%matplotlib inline \n",
    "\n",
    "# Directory to save logs and trained model\n",
    "MODEL_DIR = os.path.join(ROOT_DIR, \"logs\")\n",
    "\n",
    "# Local path to trained weights file\n",
    "COCO_MODEL_PATH = os.path.join(ROOT_DIR, \"mask_rcnn_coco.h5\")\n",
    "# Download COCO trained weights from Releases if needed\n",
    "if not os.path.exists(COCO_MODEL_PATH):\n",
    "    utils.download_trained_weights(COCO_MODEL_PATH)\n",
    "\n",
    "# Directory of images to run detection on\n",
    "IMAGE_DIR = os.path.join(ROOT_DIR, \"images\")"
   ]
  },
  {
   "cell_type": "markdown",
   "metadata": {},
   "source": [
    "## Configurations\n",
    "\n",
    "We'll be using a model trained on the MS-COCO dataset. The configurations of this model are in the ```CocoConfig``` class in ```coco.py```.\n",
    "\n",
    "For inferencing, modify the configurations a bit to fit the task. To do so, sub-class the ```CocoConfig``` class and override the attributes you need to change."
   ]
  },
  {
   "cell_type": "code",
   "execution_count": null,
   "metadata": {},
   "outputs": [],
   "source": [
    "from samples.coco import coco"
   ]
  },
  {
   "cell_type": "code",
   "execution_count": null,
   "metadata": {},
   "outputs": [],
   "source": [
    "class InferenceConfig(coco.CocoConfig):\n",
    "    # Set batch size to 1 since we'll be running inference on\n",
    "    # one image at a time. Batch size = GPU_COUNT * IMAGES_PER_GPU\n",
    "    GPU_COUNT = 1\n",
    "    IMAGES_PER_GPU = 1\n",
    "\n",
    "config = InferenceConfig()\n",
    "config.DETECTION_NMS_THRESHOLD = 0.5\n",
    "config.RPN_NMS_THRESHOLD = 0.5\n",
    "# config.MAX_GT_INSTANCES = 50\n",
    "# config.BACKBONE = \"resnet50\"\n",
    "# config.IMAGE_MIN_DIM = 256\n",
    "# config.IMAGE_MAX_DIM = 256\n",
    "# config.GPU_COUNT = 1\n",
    "# config.IMAGES_PER_GPU = 1\n",
    "# config.TRAIN_ROIS_PER_IMAGE = 50\n",
    "config.display()"
   ]
  },
  {
   "cell_type": "markdown",
   "metadata": {},
   "source": [
    "## Create Model and Load Trained Weights"
   ]
  },
  {
   "cell_type": "code",
   "execution_count": null,
   "metadata": {
    "scrolled": false
   },
   "outputs": [],
   "source": [
    "# Create model object in inference mode.\n",
    "model = modellib.MaskRCNN(mode=\"inference\", model_dir=MODEL_DIR, config=config)\n",
    "\n",
    "# Load weights trained on MS-COCO\n",
    "model.load_weights(COCO_MODEL_PATH, by_name=True)"
   ]
  },
  {
   "cell_type": "markdown",
   "metadata": {},
   "source": [
    "## Class Names\n",
    "\n",
    "The model classifies objects and returns class IDs, which are integer value that identify each class. Some datasets assign integer values to their classes and some don't. For example, in the MS-COCO dataset, the 'person' class is 1 and 'teddy bear' is 88. The IDs are often sequential, but not always. The COCO dataset, for example, has classes associated with class IDs 70 and 72, but not 71.\n",
    "\n",
    "To improve consistency, and to support training on data from multiple sources at the same time, our ```Dataset``` class assigns it's own sequential integer IDs to each class. For example, if you load the COCO dataset using our ```Dataset``` class, the 'person' class would get class ID = 1 (just like COCO) and the 'teddy bear' class is 78 (different from COCO). Keep that in mind when mapping class IDs to class names.\n",
    "\n",
    "To get the list of class names, you'd load the dataset and then use the ```class_names``` property like this.\n",
    "```\n",
    "# Load COCO dataset\n",
    "dataset = coco.CocoDataset()\n",
    "dataset.load_coco(COCO_DIR, \"train\")\n",
    "dataset.prepare()\n",
    "\n",
    "# Print class names\n",
    "print(dataset.class_names)\n",
    "```\n",
    "\n",
    "We don't want to require you to download the COCO dataset just to run this demo, so we're including the list of class names below. The index of the class name in the list represent its ID (first class is 0, second is 1, third is 2, ...etc.)"
   ]
  },
  {
   "cell_type": "code",
   "execution_count": null,
   "metadata": {},
   "outputs": [],
   "source": [
    "# COCO Class names\n",
    "# Index of the class in the list is its ID. For example, to get ID of\n",
    "# the teddy bear class, use: class_names.index('teddy bear')\n",
    "class_names = ['BG', 'person', 'bicycle', 'car', 'motorcycle', 'airplane',\n",
    "               'bus', 'train', 'truck', 'boat', 'traffic light',\n",
    "               'fire hydrant', 'stop sign', 'parking meter', 'bench', 'bird',\n",
    "               'cat', 'dog', 'horse', 'sheep', 'cow', 'elephant', 'bear',\n",
    "               'zebra', 'giraffe', 'backpack', 'umbrella', 'handbag', 'tie',\n",
    "               'suitcase', 'frisbee', 'skis', 'snowboard', 'sports ball',\n",
    "               'kite', 'baseball bat', 'baseball glove', 'skateboard',\n",
    "               'surfboard', 'tennis racket', 'bottle', 'wine glass', 'cup',\n",
    "               'fork', 'knife', 'spoon', 'bowl', 'banana', 'apple',\n",
    "               'sandwich', 'orange', 'broccoli', 'carrot', 'hot dog', 'pizza',\n",
    "               'donut', 'cake', 'chair', 'couch', 'potted plant', 'bed',\n",
    "               'dining table', 'toilet', 'tv', 'laptop', 'mouse', 'remote',\n",
    "               'keyboard', 'cell phone', 'microwave', 'oven', 'toaster',\n",
    "               'sink', 'refrigerator', 'book', 'clock', 'vase', 'scissors',\n",
    "               'teddy bear', 'hair drier', 'toothbrush']"
   ]
  },
  {
   "cell_type": "markdown",
   "metadata": {},
   "source": [
    "## Run Object Detection"
   ]
  },
  {
   "cell_type": "code",
   "execution_count": null,
   "metadata": {
    "scrolled": true
   },
   "outputs": [
    {
     "name": "stdout",
     "output_type": "stream",
     "text": [
      "\n",
      "*** No instances to display *** \n",
      "\n"
     ]
    }
   ],
   "source": [
    "# Load a random image from the images folder\n",
    "IMAGE_DIR = '/home/eliab/exp/reindex_bags/data/rgb/'\n",
    "SEMANTIC_DIR = '/home/eliab/exp/reindex_bags/data/semantic/'\n",
    "\n",
    "if not os.path.exists(SEMANTIC_DIR):\n",
    "    os.makedirs(SEMANTIC_DIR)\n",
    "\n",
    "file_names = next(os.walk(IMAGE_DIR))[2]\n",
    "file_names.sort(key=lambda x:int(x[:-4]))\n",
    "\n",
    "\n",
    "import cv2\n",
    "for file_name in file_names:\n",
    "    images = []\n",
    "    images.append(cv2.imread(IMAGE_DIR + file_name))\n",
    "    print('Loading %s' %(file_name),end='\\r')\n",
    "    \n",
    "    # Run detection\n",
    "    results = model.detect(images, verbose=0)\n",
    "\n",
    "    # Visualize results\n",
    "    r = results[0]['masks']\n",
    "    mask = np.zeros((r.shape[0],r.shape[1]))\n",
    "\n",
    "    for i in range(r.shape[2]):\n",
    "        index = np.where(r[:,:,i]==True)\n",
    "        pixel_list = list(zip(index[0],index[1]))\n",
    "        for x,y in pixel_list:\n",
    "            mask[x,y] = i+1\n",
    "    \n",
    "    fn = str(int(file_name[:-4])-1).zfill(6) + '.txt' # zfill can be removed\n",
    "    # Save the semantic results\n",
    "    np.savetxt(SEMANTIC_DIR + fn, mask, fmt='%d', delimiter=' ')\n",
    "    \n",
    "    img_fn = os.path.join(SEMANTIC_DIR, fn[:-4] +'.png')\n",
    "    # save the images\n",
    "    visualize.display_instances(img_fn, images[0], results[0]['rois'], results[0]['masks'], results[0]['class_ids'], class_names, results[0]['scores'])"
   ]
  },
  {
   "cell_type": "code",
   "execution_count": null,
   "metadata": {},
   "outputs": [],
   "source": [
    "visualize.display_instances(images[0], results[0]['rois'], results[0]['masks'], results[0]['class_ids'], class_names, results[0]['scores'])\n",
    "\n",
    "# display_instances(image, boxes, masks, class_ids, class_names, scores=None, title='', figsize=(16, 16), ax=None, show_mask=True, show_bbox=True, colors=None, captions=None)\n",
    "#     boxes: [num_instance, (y1, x1, y2, x2, class_id)] in image coordinates.\n",
    "#     masks: [height, width, num_instances]\n",
    "#     class_ids: [num_instances]\n",
    "#     class_names: list of class names of the dataset\n",
    "#     scores: (optional) confidence scores for each box\n",
    "#     title: (optional) Figure title\n",
    "#     show_mask, show_bbox: To show masks and bounding boxes or not\n",
    "#     figsize: (optional) the size of the image\n",
    "#     colors: (optional) An array or colors to use with each object\n",
    "#     captions: (optional) A list of strings to use as captions for each object"
   ]
  },
  {
   "cell_type": "code",
   "execution_count": null,
   "metadata": {},
   "outputs": [],
   "source": [
    "# Visualize results\n",
    "for k in range(5):\n",
    "    r = results[k]['masks']\n",
    "    mask = np.zeros((r.shape[0],r.shape[1]))\n",
    "\n",
    "    for i in range(r.shape[2]):\n",
    "        index = np.where(r[:,:,i]==True)\n",
    "        pixel_list = list(zip(index[0],index[1]))\n",
    "        for x,y in pixel_list:\n",
    "            mask[x,y] = i+1\n",
    "\n",
    "    masked_img = visualize.display_instances(images[k], results[k]['rois'], r, results[k]['class_ids'], class_names, results[k]['scores'])\n",
    "\n",
    "    np.savetxt('semantic/'+str(k)+'.txt',mask, fmt='%d', delimiter=' ')\n",
    "    cv2.imwrite('semantic/'+str(k)+'.png',masked_img)"
   ]
  },
  {
   "cell_type": "code",
   "execution_count": null,
   "metadata": {},
   "outputs": [],
   "source": [
    "result = np.load('/home/cxu/new_data/exp1/Viewport0_occluded/instance/1.npy',allow_pickle=True)"
   ]
  }
 ],
 "metadata": {
  "kernelspec": {
   "display_name": "Python 3 (ipykernel)",
   "language": "python",
   "name": "python3"
  },
  "language_info": {
   "codemirror_mode": {
    "name": "ipython",
    "version": 3
   },
   "file_extension": ".py",
   "mimetype": "text/x-python",
   "name": "python",
   "nbconvert_exporter": "python",
   "pygments_lexer": "ipython3",
   "version": "3.8.10"
  }
 },
 "nbformat": 4,
 "nbformat_minor": 2
}
