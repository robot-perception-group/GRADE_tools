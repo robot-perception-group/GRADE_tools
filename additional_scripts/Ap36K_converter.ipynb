{
 "cells": [
  {
   "cell_type": "code",
   "execution_count": null,
   "id": "49ac643b",
   "metadata": {},
   "outputs": [],
   "source": [
    "import json\n",
    "import sys\n",
    "from pycocotools.coco import COCO\n",
    "import numpy as np\n",
    "import matplotlib.pyplot as plt\n",
    "import os\n",
    "import shutil"
   ]
  },
  {
   "cell_type": "code",
   "execution_count": null,
   "id": "93691355",
   "metadata": {},
   "outputs": [],
   "source": [
    "main_folder = '13zebra'\n",
    "exps = os.listdir(main_folder)\n",
    "outdir = os.path.join('.','ap36k_zebra')\n",
    "outdir_images = os.path.join(outdir,'images')\n",
    "outdir_labels = os.path.join(outdir,'labels')\n",
    "outdir_labels_coco = os.path.join(outdir,'labels_coco')\n",
    "for od in [outdir, outdir_images, outdir_labels, outdir_labels_coco]:\n",
    "    if not os.path.exists(od):\n",
    "        os.makedirs(od)\n",
    "        \n",
    "for exp in exps:\n",
    "    files = os.listdir(os.path.join(main_folder,exp))\n",
    "    for file in files:\n",
    "        if file[-5:] == '.json':\n",
    "            fname = file[:-5]\n",
    "            out_fname = f'{exp}_{fname}'\n",
    "            shutil.copy(os.path.join(main_folder,exp,f\"{fname}.jpg\"),os.path.join(outdir_images,out_fname+\".jpg\"))\n",
    "            with open(os.path.join(main_folder,exp,f\"{fname}.json\"),\"r\") as f:\n",
    "                annos = json.load(f)\n",
    "                imwidth = annos['imageWidth']\n",
    "                imheight = annos['imageHeight']\n",
    "                \n",
    "                with open(os.path.join(outdir_labels,out_fname+\".txt\"),'w') as of, open(os.path.join(outdir_labels_coco,out_fname+\".txt\"),'w') as of_coco:\n",
    "                    for shape in annos['shapes']:\n",
    "                        if shape['shape_type'] == 'rectangle': # is bbox\n",
    "                            c = 0\n",
    "                            x_center = (shape['points'][0][0] + shape['points'][1][0])/(2*imwidth)\n",
    "                            y_center = (shape['points'][0][1] + shape['points'][1][1])/(2*imheight)\n",
    "                            lx = min(shape['points'][0][0], shape['points'][1][0])\n",
    "                            rx = max(shape['points'][0][0], shape['points'][1][0])\n",
    "                            uy = min(shape['points'][0][1], shape['points'][1][1])\n",
    "                            dy = max(shape['points'][0][1], shape['points'][1][1])\n",
    "                            width = (rx-lx)/(imwidth)\n",
    "                            height = (dy-uy)/(imheight)\n",
    "                            of.write(f\"{c} {x_center} {y_center} {width} {height}\\n\")\n",
    "                            c = 22\n",
    "                            of_coco.write(f\"{c} {x_center} {y_center} {width} {height}\\n\")\n"
   ]
  },
  {
   "cell_type": "markdown",
   "id": "d7c1777a",
   "metadata": {},
   "source": [
    "# create train and val jsons and copy the images to the target folders"
   ]
  },
  {
   "cell_type": "code",
   "execution_count": null,
   "id": "600f229d",
   "metadata": {},
   "outputs": [],
   "source": [
    "myl = ['video2','video5','video13','video19']"
   ]
  },
  {
   "cell_type": "code",
   "execution_count": null,
   "id": "3b027876",
   "metadata": {},
   "outputs": [],
   "source": [
    "def map_keypoints(k):\n",
    "    print(\"WRONG MAPPING FUNCTION!!!! Check neck and root of tail\")\n",
    "    tmp = [0]*81\n",
    "    tmp[0:3] = k[39:42] # left back paw\n",
    "    tmp[3:6] = k[36: 39] # left back knee\n",
    "    tmp[6:9] = k[33:36] # left back thigh\n",
    "    \n",
    "    tmp[9:12]  = k[48:51] # r back paw\n",
    "    tmp[12:15] = k[45:48] # r back knee\n",
    "    tmp[15:18] = k[42:45] # r back thigh\n",
    "    \n",
    "    tmp[18:21] = k[30:33] # r f p\n",
    "    tmp[21:24] = k[27:30] # r f k\n",
    "    tmp[24:27] = k[24:27] # r f t\n",
    "    \n",
    "    tmp[27:30] = k[21:24] # l f p\n",
    "    tmp[30:33] = k[18:21] # l f k\n",
    "    tmp[33:36] = k[15:18] # l f t\n",
    "    \n",
    "    #tmp[36:39] tail end\n",
    "    #tmp[39:42] tail start\n",
    "    #tmp[42:45, 45:48, 48:51, 51:54] # right ear tip, base, left ear tip, base\n",
    "    \n",
    "    tmp[54:57] = k[3:6] # right eye\n",
    "    tmp[57:60] = k[0:3] # left eye\n",
    "    tmp[60:63] = k[6:9] # nose\n",
    "    \n",
    "    tmp[78:81] = k[9:12] # neck # wrong\n",
    "    # tmp[63:66] = k[9:12] # neck # correct  \n",
    "    tmp[75:78] = k[12:15] # root of tail # wrong\n",
    "    # tmp[39:42] = k[12:15] # root of tail # correct\n",
    "    \n",
    "    # 63-66, neck start \n",
    "    # 66-69, neck end \n",
    "    # 69-72, skull \n",
    "    # 72-75, body middle \n",
    "    # 75-78, back end \n",
    "    # 78-81 back front\n",
    "    return tmp"
   ]
  },
  {
   "cell_type": "code",
   "execution_count": null,
   "id": "1bdc70d6",
   "metadata": {},
   "outputs": [],
   "source": [
    "f = json.load(open(\"/ps/project/irotate/vit_data/apt36k/train/train.json\",'r'))\n",
    "train = []\n",
    "val = []\n",
    "train_ann = []\n",
    "val_ann = []\n",
    "train_id = []\n",
    "val_id = []\n",
    "train_targets = ['/media/ebonetto/WindowsData/pose_zebras_sw/ViTPose/data/real_zebras_old/train/images']\n",
    "valid_targets = ['/media/ebonetto/WindowsData/pose_zebras_sw/ViTPose/data/real_zebras_old/valid/images']\n",
    "sf = '/media/ebonetto/WindowsData/real_zebras/ap36k_zebra/valid/images'\n",
    "for j in f['images']:\n",
    "    if '13zebra' in j['file_name']:\n",
    "        tmpfn = 'video'+j['file_name'].split('video')[1].split('_')[0]\n",
    "        j['file_name'] = 'video'+j['file_name'].split('video')[1].replace('\\\\','_')\n",
    "        if tmpfn not in myl:\n",
    "            train.append(j)\n",
    "            train_id.append(j['id'])\n",
    "            #for tar in train_targets:\n",
    "            #    shutil.copy(f\"/media/ebonetto/WindowsData/real_zebras/ap36k_zebra/valid/images/{j['file_name']}\", tar)\n",
    "        else:\n",
    "            val.append(j)\n",
    "            val_id.append(j['id'])\n",
    "            #for tar in valid_targets:\n",
    "            #    shutil.copy(f\"/media/ebonetto/WindowsData/real_zebras/ap36k_zebra/valid/images/{j['file_name']}\", tar)\n",
    "                \n",
    "for j in f['annotations']:\n",
    "    j['category_id'] = 23\n",
    "    j['num_keypoints'] = 27\n",
    "    if j['image_id'] in train_id:\n",
    "        j['keypoints'] = map_keypoints(j['keypoints'])\n",
    "        train_ann.append(j)\n",
    "    elif j['image_id'] in val_id:\n",
    "        j['keypoints'] = map_keypoints(j['keypoints'])\n",
    "        val_ann.append(j)\n",
    "    "
   ]
  },
  {
   "cell_type": "code",
   "execution_count": null,
   "id": "2a551cc1",
   "metadata": {},
   "outputs": [],
   "source": [
    "f2 = json.load(open(\"/media/ebonetto/WindowsData/pose_zebras_sw/ViTPose/data/apt36k_annotations.json\",'r'))"
   ]
  },
  {
   "cell_type": "code",
   "execution_count": null,
   "id": "3f76d016",
   "metadata": {},
   "outputs": [],
   "source": [
    "f['images'] = val\n",
    "f['annotations'] = val_ann\n",
    "f['categories'] = [{'name': 'person', 'id': 1, 'supercategory': 'person'},\n",
    " {'supercategory': 'animal',\n",
    "  'id': 23,\n",
    "  'name': 'zebra',\n",
    "  'keypoints': ['left_back_paw',\n",
    "   'left_back_knee',\n",
    "   'left_back_thigh',\n",
    "   'right_back_paw',\n",
    "   'right_back_knee',\n",
    "   'right_back_thigh',\n",
    "   'right_front_paw',\n",
    "   'right_front_knee',\n",
    "   'right_front_thigh',\n",
    "   'left_front_paw',\n",
    "   'left_front_knee',\n",
    "   'left_front_thigh',\n",
    "   'tail_end',\n",
    "   'tail_base',\n",
    "   'right_ear_tip',\n",
    "   'right_ear_base',\n",
    "   'left_ear_tip',\n",
    "   'left_ear_base',\n",
    "   'right_eye',\n",
    "   'left_eye',\n",
    "   'nose',\n",
    "   'neck_start',\n",
    "   'neck_end',\n",
    "   'skull',\n",
    "   'body_middle',\n",
    "   'back_end',\n",
    "   'back_front'],\n",
    "  'skeleton': [[1, 2],\n",
    "   [2, 3],\n",
    "   [3, 26],\n",
    "   [4, 5],\n",
    "   [5, 6],\n",
    "   [6, 26],\n",
    "   [7, 8],\n",
    "   [8, 9],\n",
    "   [10, 11],\n",
    "   [11, 12],\n",
    "   [13, 14],\n",
    "   [15, 16],\n",
    "   [17, 18],\n",
    "   [16, 19],\n",
    "   [19, 20],\n",
    "   [18, 20],\n",
    "   [19, 21],\n",
    "   [20, 21],\n",
    "   [19, 24],\n",
    "   [20, 24],\n",
    "   [21, 24],\n",
    "   [24, 23],\n",
    "   [23, 22],\n",
    "   [22, 27],\n",
    "   [27, 9],\n",
    "   [27, 12],\n",
    "   [27, 25],\n",
    "   [25, 26],\n",
    "   [26, 14]]},\n",
    " {'supercategory': 'vehicle', 'id': 5, 'name': 'airplane'}]\n"
   ]
  },
  {
   "cell_type": "code",
   "execution_count": null,
   "id": "8539ead9",
   "metadata": {},
   "outputs": [],
   "source": [
    "json.dump(f, open(\"/media/ebonetto/WindowsData/pose_zebras_sw/ViTPose/data/real_zebras_full_kps_valid.json\",'w'))"
   ]
  },
  {
   "cell_type": "markdown",
   "source": [
    "# Map json"
   ],
   "metadata": {
    "collapsed": false
   },
   "id": "6626ced8b22542e2"
  },
  {
   "cell_type": "code",
   "execution_count": null,
   "outputs": [],
   "source": [
    "cats = [{'name': 'person', 'id': 1, 'supercategory': 'person'},\n",
    " {'supercategory': 'animal',\n",
    "  'id': 23,\n",
    "  'name': 'zebra',\n",
    "  'keypoints': ['left_back_paw',\n",
    "   'left_back_knee',\n",
    "   'left_back_thigh',\n",
    "   'right_back_paw',\n",
    "   'right_back_knee',\n",
    "   'right_back_thigh',\n",
    "   'right_front_paw',\n",
    "   'right_front_knee',\n",
    "   'right_front_thigh',\n",
    "   'left_front_paw',\n",
    "   'left_front_knee',\n",
    "   'left_front_thigh',\n",
    "   'tail_end',\n",
    "   'tail_base',\n",
    "   'right_ear_tip',\n",
    "   'right_ear_base',\n",
    "   'left_ear_tip',\n",
    "   'left_ear_base',\n",
    "   'right_eye',\n",
    "   'left_eye',\n",
    "   'nose',\n",
    "   'neck_start',\n",
    "   'neck_end',\n",
    "   'skull',\n",
    "   'body_middle',\n",
    "   'back_end',\n",
    "   'back_front'],\n",
    "  'skeleton': [[1, 2],\n",
    "   [2, 3],\n",
    "   [3, 26],\n",
    "   [4, 5],\n",
    "   [5, 6],\n",
    "   [6, 26],\n",
    "   [7, 8],\n",
    "   [8, 9],\n",
    "   [10, 11],\n",
    "   [11, 12],\n",
    "   [13, 14],\n",
    "   [15, 16],\n",
    "   [17, 18],\n",
    "   [16, 19],\n",
    "   [19, 20],\n",
    "   [18, 20],\n",
    "   [19, 21],\n",
    "   [20, 21],\n",
    "   [19, 24],\n",
    "   [20, 24],\n",
    "   [21, 24],\n",
    "   [24, 23],\n",
    "   [23, 22],\n",
    "   [22, 27],\n",
    "   [27, 9],\n",
    "   [27, 12],\n",
    "   [27, 25],\n",
    "   [25, 26],\n",
    "   [26, 14]]},\n",
    " {'supercategory': 'vehicle', 'id': 5, 'name': 'airplane'}]"
   ],
   "metadata": {
    "collapsed": false
   },
   "id": "a968d01d09435be0"
  },
  {
   "cell_type": "code",
   "execution_count": null,
   "outputs": [],
   "source": [
    "folder = '/ps/project/irotate/vit_data/ap-10k/annotations'\n",
    "file = 'ap10k-test-split1.json'\n",
    "out_file = f'{file[:-5]}_27.json'\n",
    "\n",
    "f = json.load(open(os.path.join(folder, file),'r'))\n",
    "for j in f['annotations']:\n",
    "    # j['category_id'] = 23\n",
    "    j['num_keypoints'] = 27\n",
    "    j['keypoints'] = map_keypoints(j['keypoints'])\n",
    "    \n",
    "f['categories'] = cats\n",
    "json.dump(f, open(os.path.join(folder, out_file),'w'))"
   ],
   "metadata": {
    "collapsed": false
   },
   "id": "148a5afb1be578c2"
  },
  {
   "cell_type": "markdown",
   "id": "cb075dba",
   "metadata": {},
   "source": [
    "# merge jsons"
   ]
  },
  {
   "cell_type": "code",
   "execution_count": 93,
   "id": "a1991018",
   "metadata": {
    "ExecuteTime": {
     "end_time": "2023-12-12T08:52:13.290186065Z",
     "start_time": "2023-12-12T08:52:03.283738697Z"
    }
   },
   "outputs": [
    {
     "name": "stdout",
     "output_type": "stream",
     "text": [
      "loading annotations into memory...\n",
      "Done (t=0.01s)\n",
      "creating index...\n",
      "index created!\n",
      "loading annotations into memory...\n",
      "Done (t=5.31s)\n",
      "creating index...\n",
      "index created!\n"
     ]
    }
   ],
   "source": [
    "import pycocotools.coco as COCO\n",
    "thefile = '/media/ebonetto/WindowsData/pose_zebras_sw/all_about_zebras/ViTPose/data/unsup_dom_adapt/real_horse_crop_27_train_red.json'\n",
    "of      = \"/media/ebonetto/WindowsData/pose_zebras_sw/all_about_zebras/ViTPose/data/syn_zebras/train/s_UDA_27_train_red.json\"\n",
    "sf = \"/media/ebonetto/WindowsData/pose_zebras_sw/all_about_zebras/ViTPose/data/syn_zebras/train/train_gt30.json\"\n",
    "j1 = json.load(open(thefile,'r'))\n",
    "\n",
    "cats = j1['categories']\n",
    "j2 = json.load(open(sf,'r'))\n",
    "cats += j2['categories']\n",
    "# skeleton = j2['categories'][1]['skeleton']\n",
    "# keypoints = j2['categories'][1]['keypoints']\n",
    "\n",
    "j1 = COCO.COCO(thefile)\n",
    "j2      = COCO.COCO(sf)\n"
   ]
  },
  {
   "cell_type": "code",
   "execution_count": 94,
   "outputs": [
    {
     "data": {
      "text/plain": "{'name': 'person', 'id': 1, 'supercategory': 'person'}"
     },
     "execution_count": 94,
     "metadata": {},
     "output_type": "execute_result"
    }
   ],
   "source": [
    "cats.pop(1)"
   ],
   "metadata": {
    "collapsed": false,
    "ExecuteTime": {
     "end_time": "2023-12-12T08:52:13.313665915Z",
     "start_time": "2023-12-12T08:52:13.282556530Z"
    }
   },
   "id": "26f6f0aa383389ff"
  },
  {
   "cell_type": "code",
   "execution_count": 95,
   "id": "b45ae889",
   "metadata": {
    "scrolled": false,
    "ExecuteTime": {
     "end_time": "2023-12-12T08:52:26.641637392Z",
     "start_time": "2023-12-12T08:52:13.299019468Z"
    }
   },
   "outputs": [
    {
     "name": "stdout",
     "output_type": "stream",
     "text": [
      "80\n",
      "240677\n"
     ]
    }
   ],
   "source": [
    "import random\n",
    "from copy import deepcopy\n",
    "\n",
    "tmp = {}\n",
    "tmp['images'] = []\n",
    "tmp['annotations'] = []\n",
    "tmp['categories'] = []\n",
    "counter = 1\n",
    "ann_counter = 1\n",
    "for j in j1.getImgIds():\n",
    "    im = j1.loadImgs(j)[0]\n",
    "    newid = counter\n",
    "    im['id'] = counter\n",
    "    im['file_name'] = \"../../real_horse_crop/\"+im['file_name']\n",
    "    tmp['images'].append(im)\n",
    "    for ann in j1.loadAnns(j1.getAnnIds(imgIds=j)):\n",
    "        ann['id'] = ann_counter\n",
    "        ann['image_id'] = counter\n",
    "        tmp['annotations'].append(deepcopy(ann))\n",
    "        ann_counter += 1\n",
    "    counter += 1\n",
    "print(len(tmp['annotations']))\n",
    "del j\n",
    "\n",
    "for j in j2.getImgIds():\n",
    "    im = j2.loadImgs(j)[0]\n",
    "    newid = counter\n",
    "    im['id'] = counter\n",
    "    tmp['images'].append(im)\n",
    "    for ann in j2.loadAnns(j2.getAnnIds(imgIds=j)):\n",
    "        ann['id'] = ann_counter\n",
    "        ann['image_id'] = counter\n",
    "        # ann['category_id'] = 22\n",
    "        tmp['annotations'].append(deepcopy(ann))\n",
    "        ann_counter += 1\n",
    "    counter += 1\n",
    "print(len(tmp['annotations']))"
   ]
  },
  {
   "cell_type": "code",
   "execution_count": 96,
   "id": "0b34d528",
   "metadata": {
    "ExecuteTime": {
     "end_time": "2023-12-12T08:52:52.144522750Z",
     "start_time": "2023-12-12T08:52:26.635594096Z"
    }
   },
   "outputs": [],
   "source": [
    "tmp['categories'] = cats\n",
    "# for cat in tmp['categories']:\n",
    "#     cat['skeleton'] = skeleton\n",
    "#     cat['keypoints'] = keypoints\n",
    "json.dump(tmp, open(of,'w'))\n",
    "del j1\n",
    "del j2 \n",
    "del tmp"
   ]
  },
  {
   "cell_type": "code",
   "execution_count": null,
   "outputs": [],
   "source": [
    "tmp = json.load(open(of))\n",
    "tmp['images'][0]"
   ],
   "metadata": {
    "collapsed": false
   },
   "id": "f1d841f23bddbd53"
  },
  {
   "cell_type": "markdown",
   "source": [
    "# FIX DATA "
   ],
   "metadata": {
    "collapsed": false
   },
   "id": "7d73611630a13a2a"
  },
  {
   "cell_type": "code",
   "execution_count": null,
   "outputs": [],
   "source": [
    "\n",
    "def fixann(ann):\n",
    "    ann[78:81], ann[63:66] = ann[63:66], ann[78:81] \n",
    "    ann[75:78], ann[39:42] = ann[39:42], ann[75:78]\n",
    "    return ann"
   ],
   "metadata": {
    "collapsed": false
   },
   "id": "7bc38669bdb89ee7"
  },
  {
   "cell_type": "code",
   "execution_count": null,
   "outputs": [],
   "source": [
    "fname = '/ps/project/irotate/vit_data/ap-10k/annotations/ap10k-test-split1_27.json'\n",
    "jfile = json.load(open(fname))\n",
    "\n",
    "for ann in jfile['annotations']:\n",
    "    ann['keypoints'] = fixann(ann['keypoints'])\n",
    "    \n",
    "json.dump(jfile, open(fname[:-5]+'_fixed.json','w'))"
   ],
   "metadata": {
    "collapsed": false
   },
   "id": "5e80e62cd2a2981d"
  },
  {
   "cell_type": "markdown",
   "source": [
    "# CAT FIXER"
   ],
   "metadata": {
    "collapsed": false
   },
   "id": "5c8ff025d6e89ae6"
  },
  {
   "cell_type": "code",
   "execution_count": null,
   "outputs": [],
   "source": [
    "import json\n",
    "import os\n",
    "\n",
    "fi = '/ps/project/irotate/vit_data/ap-10k/annotations/ap10k-val-split1_OZ_27_wrong_tail_neck.json'\n",
    "ff = '/ps/project/irotate/vit_data/ap-10k/annotations/ap10k-val-split1.json'\n",
    "\n",
    "jsonfile = json.load(open(fi,'r'))\n",
    "jsonfile_fixed = json.load(open(ff,'r'))\n",
    "\n",
    "cats = jsonfile['categories']\n",
    "cats_fixed = jsonfile_fixed['categories']"
   ],
   "metadata": {
    "collapsed": false
   },
   "id": "875c202e6b1ce0c8"
  },
  {
   "cell_type": "code",
   "execution_count": null,
   "outputs": [],
   "source": [
    "for cat in cats:\n",
    "    print(cat['id'], cat['name'])"
   ],
   "metadata": {
    "collapsed": false
   },
   "id": "434082b7a66285e4"
  },
  {
   "cell_type": "code",
   "execution_count": null,
   "outputs": [],
   "source": [
    "fname_mapping = {}\n",
    "for i in jsonfile['images']:\n",
    "    fname_mapping[i['id']] = i['file_name']  \n",
    "    \n",
    "fname_OZ = set()\n",
    "for i in jsonfile_fixed['images']:\n",
    "    fname_OZ.add(i['file_name'])"
   ],
   "metadata": {
    "collapsed": false
   },
   "id": "57cfe9b2d9df8bc3"
  },
  {
   "cell_type": "code",
   "execution_count": null,
   "outputs": [],
   "source": [
    "cnt = set()\n",
    "for ann in jsonfile['annotations']:\n",
    "    if ann['category_id'] == 23:\n",
    "        if fname_mapping[ann['image_id']] in fname_OZ:\n",
    "            cnt.add(fname_mapping[ann['image_id']])\n",
    "            ann['category_id'] = 22\n",
    "      "
   ],
   "metadata": {
    "collapsed": false
   },
   "id": "6981ebae6043ebf8"
  },
  {
   "cell_type": "code",
   "execution_count": null,
   "outputs": [],
   "source": [
    "cnt = set()\n",
    "for ann in jsonfile['annotations']:\n",
    "    if ann['category_id'] == 22:\n",
    "        cnt.add(fname_mapping[ann['image_id']])\n",
    "len(cnt)"
   ],
   "metadata": {
    "collapsed": false
   },
   "id": "b38a95f48c0f837e"
  },
  {
   "cell_type": "code",
   "execution_count": null,
   "outputs": [],
   "source": [
    "fname_fixed_mapping = {}\n",
    "for i in jsonfile_fixed['images']:\n",
    "    fname_fixed_mapping[i['id']] = i['file_name']\n",
    "cnt_fixed = set()\n",
    "for ann in jsonfile_fixed['annotations']:\n",
    "    if ann['category_id'] == 22:\n",
    "        cnt_fixed.add(fname_fixed_mapping[ann['image_id']])"
   ],
   "metadata": {
    "collapsed": false
   },
   "id": "85dd7fec5c8ed575"
  },
  {
   "cell_type": "code",
   "execution_count": null,
   "outputs": [],
   "source": [
    "len(cnt_fixed)"
   ],
   "metadata": {
    "collapsed": false
   },
   "id": "22d1f387a527e3fb"
  },
  {
   "cell_type": "code",
   "execution_count": null,
   "outputs": [],
   "source": [
    "cats = cats_fixed"
   ],
   "metadata": {
    "collapsed": false
   },
   "id": "c7e71dbea6f7b213"
  },
  {
   "cell_type": "code",
   "execution_count": null,
   "outputs": [],
   "source": [
    "json.dump(jsonfile, open(fi,'w'))"
   ],
   "metadata": {
    "collapsed": false
   },
   "id": "62cbd6e7b1000cf"
  },
  {
   "cell_type": "markdown",
   "source": [
    "# Add 1s to json"
   ],
   "metadata": {
    "collapsed": false
   },
   "id": "1cdba4aad3838d"
  },
  {
   "cell_type": "code",
   "execution_count": null,
   "outputs": [],
   "source": [
    "import json\n",
    "import os\n",
    "\n",
    "fi = '/ps/project/irotate/vit_data/syn_zebras/valid/valid_gt30.json'\n",
    "ff = '/ps/project/irotate/vit_data/syn_zebras/valid/valid_gt30_1s.json'\n",
    "\n",
    "jsonfile = json.load(open(fi,'r'))\n",
    "\n",
    "img_width = 1920\n",
    "img_height = 1080\n",
    "\n",
    "for i, ann in enumerate(jsonfile['annotations']):\n",
    "    for j in range(0, len(ann['keypoints']), 3):\n",
    "        if ann['keypoints'][j+2] == 0 and ann['keypoints'][j] > 0 and ann['keypoints'][j+1] > 0 and ann['keypoints'][j] < img_width and ann['keypoints'][j+1] < img_height:\n",
    "            ann['keypoints'][j+2] = 1\n",
    "    jsonfile['annotations'][i] = ann\n",
    "json.dump(jsonfile, open(ff,'w'))"
   ],
   "metadata": {
    "collapsed": false
   },
   "id": "1b5cbcebb2dce1c0"
  },
  {
   "cell_type": "markdown",
   "source": [
    "# Take out zebras from json"
   ],
   "metadata": {
    "collapsed": false
   },
   "id": "b2e4912eb0e989b"
  },
  {
   "cell_type": "code",
   "execution_count": null,
   "outputs": [],
   "source": [
    "import json\n",
    "import os\n",
    "\n",
    "fi = '/media/ebonetto/WindowsData/pose_zebras_sw/all_about_zebras/ViTPose/data/ap-10k/annotations/ap10k-test-split1_27.json'\n",
    "ff = '/media/ebonetto/WindowsData/pose_zebras_sw/all_about_zebras/ViTPose/data/ap-10k/annotations/ap10k-test-split1_27_OZ.json'\n",
    "\n",
    "jsonfile = json.load(open(fi,'r'))\n"
   ],
   "metadata": {
    "collapsed": false
   },
   "id": "ba4ea65ab581afe4"
  },
  {
   "cell_type": "code",
   "execution_count": null,
   "outputs": [],
   "source": [
    "for cat in jsonfile['categories']:\n",
    "    print(cat['id'], cat['name'])"
   ],
   "metadata": {
    "collapsed": false
   },
   "id": "cbb56adf3bfc1e77"
  },
  {
   "cell_type": "code",
   "execution_count": null,
   "outputs": [],
   "source": [
    "toremove = []\n",
    "for i, ann in enumerate(jsonfile['annotations']):\n",
    "    if ann['category_id'] != 22:\n",
    "        toremove.append(i)\n",
    "\n",
    "for i in sorted(toremove, reverse=True):\n",
    "    del jsonfile['annotations'][i]\n",
    "    \n",
    "json.dump(jsonfile, open(ff,'w'))"
   ],
   "metadata": {
    "collapsed": false
   },
   "id": "cb1ab33b475364d2"
  },
  {
   "cell_type": "markdown",
   "source": [
    "# Convert tigdog"
   ],
   "metadata": {
    "collapsed": false
   },
   "id": "e44324602005644"
  },
  {
   "cell_type": "code",
   "execution_count": null,
   "outputs": [],
   "source": [
    "import json\n",
    "import os\n",
    "fi = '/ps/project/irotate/vit_data/unsup_dom_adapt/real_horse_crop.json'\n",
    "ff = '/ps/project/irotate/vit_data/unsup_dom_adapt/real_horse_crop_17.json'\n",
    "ff_27 = '/ps/project/irotate/vit_data/unsup_dom_adapt/real_horse_crop_27.json'\n",
    "\n",
    "jsonfile = json.load(open(fi,'r'))"
   ],
   "metadata": {
    "collapsed": false
   },
   "id": "5ec36f957bef0ea"
  },
  {
   "cell_type": "code",
   "execution_count": null,
   "outputs": [],
   "source": [
    "def keep_17(ann):\n",
    "    kps = [0] * (17 * 3)\n",
    "    for i in range(len(ann)):\n",
    "        if i % 3 == 0:\n",
    "            if i == 0:\n",
    "                kps[0:3] = ann[i:i+3]\n",
    "            elif i == 3:\n",
    "                kps[3:6] = ann[i:i+3]\n",
    "            elif i == 6:\n",
    "                kps[6:9] = ann[i:i+3] # note that this might be misleading\n",
    "            elif i == 9:\n",
    "                kps[21:24] = ann[i:i+3]\n",
    "            elif i == 12:\n",
    "                kps[30:33] = ann[i:i+3]\n",
    "            elif i == 15:\n",
    "                kps[39:42] = ann[i:i+3]\n",
    "            elif i == 18:\n",
    "                kps[48:51] = ann[i:i+3]\n",
    "            elif i == 21:\n",
    "                kps[12:15] = ann[i:i+3]\n",
    "            elif i == 24:\n",
    "                kps[18:21] = ann[i:i+3]\n",
    "            elif i == 27:\n",
    "                kps[27:30] = ann[i:i+3]\n",
    "            elif i == 30:\n",
    "                kps[36:39] = ann[i:i+3]\n",
    "            elif i == 33:\n",
    "                kps[45:48] = ann[i:i+3]\n",
    "            elif i == 36 or i == 39 or i == 54:\n",
    "                continue\n",
    "            elif i == 42:\n",
    "                kps[15:18] = ann[i:i+3]\n",
    "            elif i == 45:\n",
    "                kps[24:27] = ann[i:i+3]\n",
    "            elif i == 48:\n",
    "                kps[33:36] = ann[i:i+3]\n",
    "            elif i == 51:\n",
    "                kps[42:45] = ann[i:i+3]\n",
    "    return kps    "
   ],
   "metadata": {
    "collapsed": false
   },
   "id": "3468a9959171bde1"
  },
  {
   "cell_type": "code",
   "execution_count": null,
   "outputs": [],
   "source": [
    "jsonfile['categories'][0]['keypoints'] = ['left_back_paw',   'left_back_knee',\n",
    "   'left_back_thigh','right_back_paw','right_back_knee','right_back_thigh','right_front_paw','right_front_knee','right_front_thigh','left_front_paw','left_front_knee','left_front_thigh','tail_end','tail_base','right_ear_tip','right_ear_base','left_ear_tip','left_ear_base','right_eye','left_eye','nose','neck_start','neck_end','skull','body_middle','back_end','back_front'],\n",
    "jsonfile['categories'][0]['skeleton']=  [[1, 2],\n",
    "   [2, 3],   [3, 26],   [4, 5],   [5, 6],   [6, 26],   [7, 8],   [8, 9],   [10, 11],   [11, 12],   [13, 14],   [15, 16],   [17, 18],   [16, 19],   [19, 20],   [18, 20],   [19, 21],   [20, 21],   [19, 24],   [20, 24],   [21, 24],   [24, 23],   [23, 22],   [22, 27],   [27, 9],   [27, 12],   [27, 25],   [25, 26],   [26, 14]]"
   ],
   "metadata": {
    "collapsed": false
   },
   "id": "b3c5dacfa508180d"
  },
  {
   "cell_type": "code",
   "execution_count": null,
   "outputs": [],
   "source": [
    "for ann in jsonfile['annotations']:\n",
    "    ann['keypoints'] = keep_17(ann['keypoints'])\n",
    "\n",
    "json.dump(jsonfile, open(ff,'w'))"
   ],
   "metadata": {
    "collapsed": false
   },
   "id": "99afcaf9c880f1ef"
  },
  {
   "cell_type": "code",
   "execution_count": null,
   "outputs": [],
   "source": [
    "def map_tigdog_27(k):\n",
    "    # print(\"WRONG MAPPING FUNCTION!!!! Check neck and root of tail\")\n",
    "    tmp = [0]*81\n",
    "    tmp[0:3] = k[39:42] # left back paw\n",
    "    tmp[3:6] = k[36:39] # left back knee\n",
    "    tmp[6:9] = k[33:36] # left back thigh\n",
    "    \n",
    "    tmp[9:12]  = k[48:51] # r back paw\n",
    "    tmp[12:15] = k[45:48] # r back knee\n",
    "    tmp[15:18] = k[42:45] # r back thigh\n",
    "    \n",
    "    tmp[18:21] = k[30:33] # r f p\n",
    "    tmp[21:24] = k[27:30] # r f k\n",
    "    tmp[24:27] = k[24:27] # r f t\n",
    "    \n",
    "    tmp[27:30] = k[21:24] # l f p\n",
    "    tmp[30:33] = k[18:21] # l f k\n",
    "    tmp[33:36] = k[15:18] # l f t\n",
    "    \n",
    "    #tmp[36:39] tail end\n",
    "    #tmp[39:42] tail start\n",
    "    #tmp[42:45, 45:48, 48:51, 51:54] # right ear tip, base, left ear tip, base\n",
    "    \n",
    "    tmp[54:57] = k[3:6] # right eye\n",
    "    tmp[57:60] = k[0:3] # left eye\n",
    "    tmp[60:63] = k[6:9] # nose\n",
    "    \n",
    "    # tmp[78:81] = k[9:12] # neck # wrong\n",
    "    tmp[63:66] = k[9:12] # neck # correct  \n",
    "    # tmp[75:78] = k[12:15] # root of tail # wrong\n",
    "    tmp[39:42] = k[12:15] # root of tail # correct\n",
    "    \n",
    "    # 63-66, neck start \n",
    "    # 66-69, neck end \n",
    "    # 69-72, skull \n",
    "    # 72-75, body middle \n",
    "    # 75-78, back end \n",
    "    # 78-81 back front\n",
    "    return tmp"
   ],
   "metadata": {
    "collapsed": false
   },
   "id": "94cef7a0f4db03be"
  },
  {
   "cell_type": "code",
   "execution_count": null,
   "outputs": [],
   "source": [
    "for ann in jsonfile['annotations']:\n",
    "    ann['keypoints'] = map_tigdog_27(ann['keypoints'])\n",
    "    "
   ],
   "metadata": {
    "collapsed": false
   },
   "id": "6a414136d88c708a"
  },
  {
   "cell_type": "code",
   "execution_count": null,
   "outputs": [],
   "source": [
    "json.dump(jsonfile, open(ff_27,'w'))"
   ],
   "metadata": {
    "collapsed": false
   },
   "id": "3ffddc319eaf604e"
  },
  {
   "cell_type": "markdown",
   "source": [
    "# reduce number of syn images"
   ],
   "metadata": {
    "collapsed": false
   },
   "id": "663861ae104a0d12"
  },
  {
   "cell_type": "code",
   "execution_count": null,
   "outputs": [],
   "source": [
    "import json\n",
    "import os\n",
    "ff = '/media/ebonetto/WindowsData/pose_zebras_sw/all_about_zebras/ViTPose/data/syn_zebras/train/train_gt30.json'\n",
    "fo = ff[:-5]+'_3k_bis.json'\n",
    "\n",
    "jsonfile = json.load(open(ff,'r'))\n",
    "m = {}\n",
    "for i in jsonfile['images']:\n",
    "    m[i['id']] = i['file_name']\n",
    "\n",
    "ids = []\n",
    "allids = []\n",
    "import random\n",
    "\n",
    "for idx, ann in enumerate(jsonfile['annotations']):\n",
    "    if not ('_' in m[ann['image_id']] or  'video' in m[ann['image_id']] or 'clip' in m[ann['image_id']] or 'frame' in m[ann['image_id']] or '(' in m[ann['image_id']]):\n",
    "        allids.append(idx)\n",
    "    # keep only bboxes if the longest dimension is greater than 100 px\n",
    "    if ann['bbox'][2] > 100 or ann['bbox'][3] > 100:\n",
    "        ids.append(idx)\n",
    "      \n",
    "ids = random.sample(ids, k=360 if 'val' in ff else 2640)\n",
    "import numpy as np\n",
    "ids = np.array(ids)\n",
    "allids = np.array(allids)\n",
    "toremove = np.setdiff1d(allids, ids)\n",
    "toremove.sort()\n",
    "for i in toremove[::-1]:\n",
    "    jsonfile['annotations'].pop(i)\n",
    "\n",
    "print(len(jsonfile['annotations']))\n",
    "json.dump(jsonfile, open(fo,'w'))"
   ],
   "metadata": {
    "collapsed": false
   },
   "id": "50e351dc120b9005"
  },
  {
   "cell_type": "code",
   "execution_count": null,
   "outputs": [],
   "source": [
    "ff = '/media/ebonetto/WindowsData/pose_zebras_sw/all_about_zebras/ViTPose/data/syn_zebras/train/train_gt30_3k_bis.json'\n",
    "jsonfile = json.load(open(ff,'r'))\n",
    "n_kps = []\n",
    "for ann in jsonfile['annotations']:\n",
    "    n_kps.append(sum(ann['keypoints'][2::3])/2) "
   ],
   "metadata": {
    "collapsed": false
   },
   "id": "be3cfff277bda3d0"
  },
  {
   "cell_type": "code",
   "execution_count": null,
   "outputs": [],
   "source": [
    "ff = '/media/ebonetto/WindowsData/pose_zebras_sw/all_about_zebras/ViTPose/data/syn_zebras/train/train_gt30_3k_bis.json'\n",
    "fi = '/media/ebonetto/WindowsData/pose_zebras_sw/all_about_zebras/ViTPose/data/s_apt36k/train/train_full.json'\n",
    "fo = '/media/ebonetto/WindowsData/pose_zebras_sw/all_about_zebras/ViTPose/data/s_apt36k/train/train_full_3k_bis.json'\n",
    "\n",
    "jsonfile = json.load(open(ff,'r'))\n",
    "jsonfile2 = json.load(open(fi,'r'))\n",
    "\n",
    "m = {}\n",
    "for i in jsonfile['images']:\n",
    "    m[i['id']] = i['file_name']\n",
    "    \n",
    "bbox_as_keys = {}\n",
    "for ann in jsonfile['annotations']:\n",
    "    if m[ann['image_id']] not in bbox_as_keys:\n",
    "        bbox_as_keys[m[ann['image_id']]] = []\n",
    "    bbox_as_keys[m[ann['image_id']]].append(ann['bbox'])\n",
    "    \n",
    "m_new = {}\n",
    "for i in jsonfile2['images']:\n",
    "    m_new[i['id']] = i['file_name']\n",
    "    \n",
    "torem = []\n",
    "for idx, ann in enumerate(jsonfile2['annotations']):\n",
    "    found = False\n",
    "    if m_new[ann['image_id']] in bbox_as_keys:\n",
    "        for bbox in bbox_as_keys[m_new[ann['image_id']]]:\n",
    "            if ann['bbox'] == bbox:\n",
    "                found = True\n",
    "                break\n",
    "    if m_new[ann['image_id']].startswith('000') or \"_\" in m_new[ann['image_id']] or \"frame\" in m_new[ann['image_id']] or \"video\" in m_new[ann['image_id']] or \"clip\" in m_new[ann['image_id']] or \"v\" in m_new[ann['image_id']]:\n",
    "        found = True\n",
    "    if not found:\n",
    "        torem.append(idx)\n",
    "print(len(jsonfile2['annotations'])-len(torem))\n",
    "jsonfile3 = json.load(open(fo[:-9]+\".json\",'r'))\n",
    "print(len(jsonfile3['annotations']))"
   ],
   "metadata": {
    "collapsed": false
   },
   "id": "fc1ad2f663c51836"
  },
  {
   "cell_type": "code",
   "execution_count": null,
   "outputs": [],
   "source": [
    "torem.sort()\n",
    "for i in torem[::-1]:\n",
    "    jsonfile2['annotations'].pop(i)\n",
    "json.dump(jsonfile2, open(fo,'w'))"
   ],
   "metadata": {
    "collapsed": false
   },
   "id": "4b2ad323872bb8e1"
  },
  {
   "cell_type": "markdown",
   "source": [
    "# Check and fix cats"
   ],
   "metadata": {
    "collapsed": false
   },
   "id": "d22157daeac96ca2"
  },
  {
   "cell_type": "code",
   "execution_count": null,
   "outputs": [],
   "source": [
    "import json\n",
    "import os"
   ],
   "metadata": {
    "collapsed": false
   },
   "id": "6b7751a4f0af1633"
  },
  {
   "cell_type": "code",
   "execution_count": null,
   "outputs": [],
   "source": [
    "folder = '/ps/project/irotate/vit_data/zebra-zoo/annotations'\n",
    "fnames = os.listdir(folder)\n",
    "fnames = [f for f in fnames if '27' in f and 'wrong' not in f]"
   ],
   "metadata": {
    "collapsed": false
   },
   "id": "f03e4ec49a5f8e50"
  },
  {
   "cell_type": "code",
   "execution_count": null,
   "outputs": [],
   "source": [
    "for fname in fnames:\n",
    "    print()\n",
    "    c = set()\n",
    "    jsonfile = json.load(open(os.path.join(folder,fname),'r'))\n",
    "    for ann in jsonfile['annotations']:\n",
    "        c.add(ann['category_id'])\n",
    "    print(fname, len(c))\n",
    "    c = set()\n",
    "    for cat in jsonfile['categories']:\n",
    "        c.add(cat['id'])\n",
    "    print(fname, len(c))\n",
    "    print()\n",
    "    for cat in jsonfile['categories']:\n",
    "        cat['skeleton'] = [[1, 2], [2, 3], [3, 26], [4, 5], [5, 6], [6, 26], [7, 8], [8, 9], [10, 11], [11, 12], [13, 14], [15, 16], [17, 18], [16, 19], [19, 20], [18, 20], [19, 21], [20, 21], [19, 24], [20, 24], [21, 24], [24, 23], [23, 22], [22, 27], [27, 9], [27, 12], [27, 25], [25, 26], [26, 14]]\n",
    "        cat['keypoints'] = ['left_back_paw', 'left_back_knee', 'left_back_thigh', 'right_back_paw', 'right_back_knee', 'right_back_thigh', 'right_front_paw', 'right_front_knee', 'right_front_thigh', 'left_front_paw', 'left_front_knee', 'left_front_thigh', 'tail_end', 'tail_base', 'right_ear_tip', 'right_ear_base', 'left_ear_tip', 'left_ear_base', 'right_eye', 'left_eye', 'nose', 'neck_start', 'neck_end', 'skull', 'body_middle', 'back_end', 'back_front']\n",
    "    json.dump(jsonfile, open(os.path.join(folder,fname),'w'))\n"
   ],
   "metadata": {
    "collapsed": false
   },
   "id": "f21f5b90c392e531"
  },
  {
   "cell_type": "code",
   "execution_count": null,
   "outputs": [],
   "source": [
    "tmp = '/ps/project/irotate/vit_data/zebra-zoo/annotations/val_27kps_fixed.json'\n",
    "tmp2 = '/ps/project/irotate/vit_data/apt36k/valid/valid_27_fixed.json'"
   ],
   "metadata": {
    "collapsed": false
   },
   "id": "8b717583f37e40be"
  },
  {
   "cell_type": "code",
   "execution_count": null,
   "outputs": [],
   "source": [
    "j2 = json.load(open(tmp2,'r'))\n",
    "j1 = json.load(open(tmp,'r'))"
   ],
   "metadata": {
    "collapsed": false
   },
   "id": "cebc2015861efe29"
  },
  {
   "cell_type": "code",
   "execution_count": null,
   "outputs": [],
   "source": [
    "j1['categories'] = j2['categories']\n",
    "json.dump(j1, open(tmp,'w'))"
   ],
   "metadata": {
    "collapsed": false
   },
   "id": "ea697cf48f2b04c5"
  },
  {
   "cell_type": "markdown",
   "source": [
    "# 1250 Ap10K (25*50)"
   ],
   "metadata": {
    "collapsed": false
   },
   "id": "e739c1dca1cd91e2"
  },
  {
   "cell_type": "code",
   "execution_count": 97,
   "outputs": [],
   "source": [
    "# Annotation list from ScarceNet\n",
    "anno_list = [48752, 48839, 48787, 48876, 48866, 48850, 48859, 48768, 48725, 48848, 48738, 48790, 48864, 48817, 48728, 48852, 48827, 48904, 48753, 48746, 48796, 48808, 48907, 48782, 48751, 49094, 49026, 49000, 48950, 49031, 48951, 49084, 48912, 49071, 48944, 48966, 48971, 49041, 49085, 48949, 49099, 48984, 49025, 49001, 49012, 49051, 49028, 49075, 49055, 49082, 28605, 26976, 29435, 29350, 30228, 29940, 29485, 29380, 28269, 30273, 27713, 30006, 29326, 29873, 29067, 26970, 27099, 29116, 30350, 29091, 29152, 27269, 28943, 29510, 28852, 30999, 30740, 31066, 30595, 30977, 30971, 31643, 31554, 30806, 30970, 30984, 30651, 30507, 31566, 30817, 31443, 31088, 30983, 31133, 30990, 31577, 31233, 30992, 31199, 31555, 49245, 49312, 49309, 49406, 49265, 49287, 49269, 49226, 49323, 49317, 49303, 49276, 49346, 49264, 49291, 49349, 49296, 49410, 49236, 49350, 49263, 49360, 49369, 49241, 49290, 49984, 50041, 50193, 50104, 50220, 50053, 50095, 50208, 50055, 50214, 49978, 50052, 50235, 50105, 50004, 50238, 49993, 50191, 50213, 50036, 50231, 50145, 50022, 49983, 50147, 200, 149, 103, 135, 237, 180, 108, 155, 58, 217, 282, 143, 234, 107, 226, 221, 96, 172, 260, 240, 125, 106, 715, 90, 84, 1079, 1038, 1075, 1092, 1083, 1050, 1072, 1060, 1073, 1091, 1030, 1061, 1098, 1103, 1028, 1108, 1036, 1040, 1025, 1037, 1109, 1064, 1031, 1058, 1049, 1513, 1218, 1935, 1680, 1193, 1977, 1128, 1122, 1197, 1217, 1813, 1182, 1144, 1132, 1236, 1117, 1702, 1126, 1175, 1143, 1114, 1222, 1967, 1224, 1172, 2156, 2109, 2106, 2158, 2151, 2104, 2111, 2015, 2173, 1988, 1983, 2174, 2138, 2069, 2099, 2072, 2160, 2095, 2112, 2123, 2146, 2088, 2075, 2150, 2159, 4521, 4331, 3346, 4238, 5033, 4657, 4086, 4781, 4768, 4422, 2821, 3717, 2688, 5433, 4879, 2455, 5096, 4706, 4109, 2610, 4373, 5444, 4853, 4817, 5011, 7102, 7249, 7753, 7745, 7773, 7286, 6966, 7409, 7274, 7213, 8050, 7446, 8063, 7964, 7336, 8469, 7728, 7557, 7734, 5822, 7763, 6111, 5862, 5989, 8246, 43256, 43101, 43109, 43203, 43179, 43211, 43126, 43193, 43189, 43250, 43087, 43105, 43107, 43113, 43093, 43174, 43213, 43095, 43226, 43188, 43244, 43210, 43092, 43106, 43231, 45128, 45039, 45087, 45098, 45001, 44976, 44943, 44926, 44969, 44960, 44953, 45082, 44962, 45015, 44998, 44935, 44930, 45014, 45086, 45116, 45020, 45013, 45113, 44986, 44981, 46201, 46273, 46157, 46215, 46251, 46286, 46271, 46165, 46183, 46193, 46168, 46256, 46233, 46176, 46238, 46209, 46228, 46290, 46178, 46268, 46284, 46265, 46109, 46149, 46151, 20054, 20033, 20072, 20075, 20040, 20038, 20066, 20020, 20023, 20049, 20055, 20044, 20078, 20043, 20017, 20067, 20039, 20057, 20032, 20051, 20076, 20026, 20010, 20013, 20061, 20165, 20191, 20234, 20103, 20155, 20100, 20180, 20184, 20122, 20172, 20127, 20235, 20158, 20242, 20213, 20230, 20237, 20173, 20104, 20194, 20124, 20116, 20176, 20139, 20121, 20329, 20280, 20250, 20252, 20328, 20278, 20245, 20336, 20277, 20246, 20270, 20279, 20332, 20275, 20330, 20265, 20290, 20253, 20272, 20305, 20298, 20311, 20249, 20304, 20292, 20399, 20455, 20354, 20376, 20568, 20338, 20368, 20427, 20452, 20496, 20535, 20385, 20493, 20403, 20437, 20475, 20566, 20581, 20543, 20339, 20557, 20538, 20411, 20480, 20422, 20682, 20639, 20665, 20610, 20592, 20670, 20655, 20646, 20601, 20632, 20645, 20607, 20634, 20609, 20661, 20642, 20684, 20683, 20630, 20672, 20643, 20599, 20635, 20602, 20620, 48578, 48706, 48607, 48710, 48546, 48649, 48692, 48713, 48696, 48708, 48639, 48567, 48587, 48542, 48584, 48678, 48637, 48707, 48571, 48724, 48547, 48716, 48570, 48588, 48615, 31989, 32064, 31957, 32017, 32013, 32054, 31950, 31930, 32065, 32072, 31904, 31919, 31969, 31952, 31923, 32047, 32073, 32005, 32029, 31954, 32002, 31892, 31932, 32011, 32071, 35695, 34250, 40406, 32828, 40436, 40808, 35616, 40782, 40047, 40658, 39933, 40778, 40269, 34461, 40492, 40428, 40470, 36017, 40413, 34984, 40812, 35550, 33306, 34906, 36239, 36434, 36338, 36481, 36482, 36367, 36319, 36394, 36428, 36397, 36365, 36477, 36420, 36511, 36342, 36361, 36493, 36487, 36470, 36321, 36341, 36333, 36307, 36362, 36404, 36349, 37590, 37591, 37728, 37559, 37826, 37679, 37713, 37833, 37584, 37815, 37522, 37697, 37805, 37626, 37534, 37601, 37618, 37526, 37588, 37698, 37736, 37685, 37785, 37681, 37733, 37888, 37889, 37891, 37892, 37893, 37894, 37895, 37866, 37867, 37870, 37871, 37872, 37874, 37876, 37877, 37878, 37881, 37882, 37883, 37884, 37885, 37886, 38497, 38286, 38041, 37993, 38674, 38353, 37979, 38675, 38031, 38486, 37909, 38035, 37953, 38036, 37901, 37968, 37910, 38408, 37948, 38704, 38032, 38017, 37997, 38047, 38023, 38752, 38832, 38785, 38739, 38855, 38840, 38748, 38914, 38728, 38836, 38737, 38819, 38721, 38863, 38792, 38811, 38860, 38825, 38852, 38738, 38900, 38843, 38731, 38745, 38751, 39908, 39779, 39863, 39746, 39768, 39892, 39857, 39889, 39862, 39923, 39836, 39803, 39770, 39852, 39781, 39813, 39871, 39841, 39802, 39920, 39751, 39918, 39780, 39745, 39915, 40870, 40894, 40934, 40912, 40846, 40868, 40849, 40904, 40909, 40928, 40921, 40930, 40848, 40887, 40897, 40929, 40860, 40916, 40886, 40882, 40893, 40875, 40880, 40850, 40925, 40945, 41080, 40961, 40964, 41120, 41131, 41039, 41051, 41138, 40966, 40952, 41102, 41003, 41054, 41045, 41078, 41011, 41104, 41116, 41041, 40969, 41067, 41097, 41114, 41020, 47652, 47533, 47541, 47673, 47507, 47486, 47638, 47558, 47627, 47456, 47595, 47510, 47498, 47502, 47599, 47484, 47572, 47611, 47602, 47505, 47590, 47589, 47639, 47647, 47493, 50272, 50350, 50326, 50258, 50279, 50309, 50427, 50378, 50292, 50259, 50348, 50355, 50385, 50308, 50341, 50382, 50334, 50373, 50325, 50278, 50409, 50417, 50262, 50426, 50359, 19982, 19976, 20004, 19921, 19858, 19953, 19893, 19926, 19947, 19901, 19984, 19999, 19985, 19952, 20007, 19937, 19881, 19865, 19835, 19912, 19973, 19948, 19890, 19916, 19918, 44248, 44356, 44302, 44294, 44345, 44331, 44280, 44357, 44722, 44511, 44600, 44317, 44589, 44298, 44244, 44308, 44343, 44909, 44285, 44711, 44292, 44500, 44262, 44273, 44655, 23699, 23645, 23483, 23579, 23710, 23624, 23724, 23523, 23610, 23732, 23690, 23628, 23703, 23534, 23435, 23706, 23566, 23568, 23720, 23684, 23604, 23455, 23603, 23485, 23707, 54982, 54901, 54913, 54906, 54851, 54828, 54829, 55000, 54951, 54987, 54947, 54949, 54955, 54918, 54856, 54935, 54817, 54892, 54816, 54838, 54831, 54917, 54985, 55004, 54952, 20762, 20795, 20724, 20756, 20790, 20721, 20699, 20850, 20860, 20742, 20686, 20792, 20863, 20700, 20738, 20703, 20789, 20879, 20866, 20770, 20869, 20874, 20858, 20778, 20716, 22642, 22058, 22330, 22649, 22646, 22082, 22640, 22274, 22016, 22067, 22015, 22068, 22076, 22022, 22627, 22196, 22285, 22218, 22085, 22152, 22207, 22429, 22363, 22653, 22115, 55645, 55653, 55631, 55655, 55664, 55669, 55627, 55657, 55630, 55647, 55652, 55659, 55661, 55634, 55624, 55626, 55667, 55642, 55663, 55625, 55635, 55648, 55665, 55658, 55641, 55884, 55892, 55782, 55899, 55893, 55709, 55764, 55699, 55901, 55859, 55783, 55704, 55873, 55862, 55748, 55705, 55755, 55674, 55767, 55820, 55902, 55839, 55692, 55750, 55896, 56696, 56745, 56707, 56557, 56580, 56656, 56627, 56655, 56714, 56608, 56693, 56670, 56748, 56692, 56625, 56675, 56642, 56597, 56561, 56702, 56687, 56673, 56605, 56728, 56571, 58535, 58492, 58528, 58558, 58450, 58592, 58463, 58569, 58470, 58476, 58523, 58546, 58480, 58447, 58506, 58497, 58475, 58474, 58575, 58510, 58520, 58618, 58504, 58478, 58577, 18324, 19159, 10785, 12869, 16735, 10364, 10359, 18412, 10347, 8883, 18406, 19026, 14079, 13409, 10498, 18959, 8857, 9014, 9248, 12721, 12862, 18393, 9409, 12717, 8830, 17709, 17658, 17682, 17680, 17646, 17755, 18167, 18201, 17720, 17655, 17690, 18156, 18303, 17713, 17707, 17879, 18045, 17747, 18001, 18280, 17714, 17708, 17660, 17669, 17665, 19792, 19350, 19816, 19552, 19652, 19441, 19826, 19789, 19810, 19306, 19797, 19267, 19812, 19619, 19279, 19260, 19258, 19269, 19290, 19363, 19719, 19831, 19300, 19264, 19302, 23292, 23419, 22774, 22730, 23409, 23004, 22691, 22993, 22715, 23303, 22717, 23337, 22751, 22702, 23215, 22704, 22662, 23370, 22837, 22735, 22772, 23429, 22737, 22709, 22763, 51809, 51876, 51853, 51829, 51870, 51807, 51812, 51878, 51863, 51814, 51805, 51825, 51854, 51822, 51813, 51835, 51818, 51808, 51827, 51881, 51856, 51802, 51880, 51819, 51850, 52086, 52068, 51983, 52130, 51982, 52084, 52059, 51903, 51899, 52150, 52058, 52038, 51939, 52096, 52103, 52137, 52032, 51896, 51993, 51925, 51953, 52007, 52034, 51980, 52071, 50813, 50815, 50825, 50857, 50957, 51068, 51128, 50790, 51020, 50858, 50820, 50954, 51112, 50929, 50870, 51078, 51246, 51024, 50913, 51228, 51192, 51179, 50967, 51086, 50760]\n",
    "import json\n",
    "import os\n",
    "fi_train = '/ps/project/irotate/vit_data/ap-10k/annotations/ap10k-train-split1.json'\n",
    "fm = '/ps/project/irotate/vit_data/s_ap10_zebras/train/train_full.json'\n",
    "fo = '/ps/project/irotate/vit_data/s_ap10_zebras/train/train_1250.json'\n",
    "\n",
    "base_file_train = json.load(open(fi_train,'r'))"
   ],
   "metadata": {
    "collapsed": false,
    "ExecuteTime": {
     "end_time": "2023-12-12T09:07:53.379409384Z",
     "start_time": "2023-12-12T09:07:52.467869909Z"
    }
   },
   "id": "3a87eb8dd1652173"
  },
  {
   "cell_type": "code",
   "execution_count": 99,
   "outputs": [],
   "source": [
    "fo_train = '/ps/project/irotate/vit_data/ap-10k/annotations/ap10k-train-split1_1250.json'\n",
    "\n",
    "fnt_tokeep = []\n",
    "for idx, ann in enumerate(base_file_train['annotations']):\n",
    "    if ann['image_id'] in anno_list:\n",
    "        fnt_tokeep.append(idx)\n",
    "for i in fnt_tokeep[::-1]:\n",
    "    base_file_train['annotations'].pop(i)\n",
    "\n",
    "json.dump(base_file_train, open(fo_train,'w'))"
   ],
   "metadata": {
    "collapsed": false,
    "ExecuteTime": {
     "end_time": "2023-12-12T09:11:06.214420Z",
     "start_time": "2023-12-12T09:11:05.577136379Z"
    }
   },
   "id": "dea80402684d4e63"
  },
  {
   "cell_type": "code",
   "execution_count": null,
   "outputs": [],
   "source": [
    "fn_tokeep = []\n",
    "for i in base_file_train['images']:\n",
    "    if i['id'] in anno_list:\n",
    "        fn_tokeep.append(i['file_name'])"
   ],
   "metadata": {
    "collapsed": false
   },
   "id": "827263f94fc84a0d"
  },
  {
   "cell_type": "code",
   "execution_count": null,
   "outputs": [],
   "source": [
    "input_file = json.load(open(fm,'r'))\n",
    "\n",
    "m_mix = {}\n",
    "cnt = 0\n",
    "for i in input_file['images']:\n",
    "    if i['file_name'] in fn_tokeep or not i['file_name'].startswith(\"000\"):\n",
    "        m_mix[i['id']] = i['file_name']\n",
    "    if not i['file_name'].startswith(\"000\"):\n",
    "        cnt += 1"
   ],
   "metadata": {
    "collapsed": false
   },
   "id": "22303e5d96ceeba1"
  },
  {
   "cell_type": "code",
   "execution_count": null,
   "outputs": [],
   "source": [
    "cnt = []\n",
    "for i in input_file['annotations']:\n",
    "    if i['image_id'] in m_mix and not m_mix[i['image_id']].startswith(\"000\"):\n",
    "        cnt.append(i['category_id'])\n",
    "print(len(cnt))"
   ],
   "metadata": {
    "collapsed": false
   },
   "id": "b1cfac723d4fc495"
  },
  {
   "cell_type": "code",
   "execution_count": null,
   "outputs": [],
   "source": [
    "to_pop = []\n",
    "for idx, ann in enumerate(input_file['annotations']):\n",
    "    if not ann['image_id'] in m_mix:\n",
    "        to_pop.append(idx)"
   ],
   "metadata": {
    "collapsed": false
   },
   "id": "e8ff08604c0a7d62"
  },
  {
   "cell_type": "code",
   "execution_count": null,
   "outputs": [],
   "source": [
    "for i in to_pop[::-1]:\n",
    "    input_file['annotations'].pop(i)\n",
    "    \n",
    "print(len(input_file['annotations']))\n",
    "\n",
    "json.dump(input_file, open(fo,'w'))"
   ],
   "metadata": {
    "collapsed": false
   },
   "id": "98c558d7d80d4987"
  },
  {
   "cell_type": "markdown",
   "source": [
    "# Create X images for validation in ap10k"
   ],
   "metadata": {
    "collapsed": false
   },
   "id": "dfcb26ef1e95d782"
  },
  {
   "cell_type": "code",
   "execution_count": null,
   "outputs": [],
   "source": [
    "import json\n",
    "import os\n",
    "fi_valid = '/ps/project/irotate/vit_data/ap-10k/annotations/ap10k-val-split1.json'\n",
    "\n",
    "valid_targets = json.load(open(fi_valid,'r'))\n",
    "bucket_cats = {}\n",
    "for ann in valid_targets['annotations']:\n",
    "    if ann['category_id'] not in bucket_cats:\n",
    "        bucket_cats[ann['category_id']] = set()\n",
    "    bucket_cats[ann['category_id']].add(ann['image_id'])\n",
    "      \n",
    "import random\n",
    "for i in bucket_cats:\n",
    "    if len(bucket_cats[i]) > 6:\n",
    "        bucket_cats[i] = random.sample(bucket_cats[i], k=6)\n",
    "print(sum([len(bucket_cats[i]) for i in bucket_cats]))"
   ],
   "metadata": {
    "collapsed": false
   },
   "id": "93783707d6982891"
  },
  {
   "cell_type": "code",
   "execution_count": null,
   "outputs": [],
   "source": [
    "fm = '/ps/project/irotate/vit_data/s_ap10_zebras/valid/valid_full_3k.json'\n",
    "fo = '/ps/project/irotate/vit_data/s_ap10_zebras/valid/valid_1250_3k.json'"
   ],
   "metadata": {
    "collapsed": false
   },
   "id": "1acba9bccdfd5764"
  },
  {
   "cell_type": "code",
   "execution_count": null,
   "outputs": [],
   "source": [
    "ids_to_keep = []\n",
    "for i in bucket_cats:\n",
    "    ids_to_keep.extend(list(bucket_cats[i]))\n",
    "\n",
    "fn_tokeep = []\n",
    "for i in valid_targets['images']:\n",
    "    if i['id'] in ids_to_keep:\n",
    "        fn_tokeep.append(i['file_name'])"
   ],
   "metadata": {
    "collapsed": false
   },
   "id": "81ca201b2262acaa"
  },
  {
   "cell_type": "code",
   "execution_count": null,
   "outputs": [],
   "source": [
    "input_file = json.load(open(fm,'r'))\n",
    "\n",
    "m_mix = {}\n",
    "for i in input_file['images']:\n",
    "    if i['file_name'] in fn_tokeep or not i['file_name'].startswith(\"000\"):\n",
    "        m_mix[i['id']] = i['file_name']"
   ],
   "metadata": {
    "collapsed": false
   },
   "id": "c430cf8485766b60"
  },
  {
   "cell_type": "code",
   "execution_count": null,
   "outputs": [],
   "source": [
    "to_pop = []\n",
    "for idx, ann in enumerate(input_file['annotations']):\n",
    "    if not ann['image_id'] in m_mix:\n",
    "        to_pop.append(idx)\n",
    "for i in to_pop[::-1]:\n",
    "    input_file['annotations'].pop(i)\n",
    "\n",
    "print(len(input_file['annotations']))"
   ],
   "metadata": {
    "collapsed": false
   },
   "id": "b51724de255897f5"
  },
  {
   "cell_type": "code",
   "execution_count": null,
   "outputs": [],
   "source": [
    "cnt = 0\n",
    "cnt_bis = 0\n",
    "for i in input_file['annotations']:\n",
    "    if m_mix[i['image_id']].startswith(\"000\"):\n",
    "        cnt += 1\n",
    "    else:\n",
    "        cnt_bis += 1\n",
    "print(cnt)\n",
    "print(cnt_bis)"
   ],
   "metadata": {
    "collapsed": false
   },
   "id": "8db52a34095e5c03"
  },
  {
   "cell_type": "code",
   "execution_count": null,
   "outputs": [],
   "source": [
    "json.dump(input_file, open(fo,'w'))"
   ],
   "metadata": {
    "collapsed": false
   },
   "id": "cf098ecd5f16dc1f"
  },
  {
   "cell_type": "code",
   "execution_count": 115,
   "outputs": [],
   "source": [
    "fo_val = '/ps/project/irotate/vit_data/ap-10k/annotations/ap10k-val-split1_1250.json'\n",
    "fi_val = '/ps/project/irotate/vit_data/ap-10k/annotations/ap10k-val-split1.json'\n",
    "val_1250_mix = '/ps/project/irotate/vit_data/s_ap10_zebras/valid/valid_1250.json'\n",
    "\n",
    "base_file_val = json.load(open(val_1250_mix,'r'))\n",
    "\n",
    "m = {}\n",
    "for i in base_file_val['images']:\n",
    "    if i['file_name'].startswith(\"000\"):\n",
    "        m[i['id']] = i['file_name']\n",
    "    \n",
    "ims = []\n",
    "for i in base_file_val['annotations']:\n",
    "    if i['image_id'] in m:\n",
    "        ims.append(m[i['image_id']])"
   ],
   "metadata": {
    "collapsed": false,
    "ExecuteTime": {
     "end_time": "2023-12-12T09:22:02.827172076Z",
     "start_time": "2023-12-12T09:22:01.367288377Z"
    }
   },
   "id": "6cc23ce68877beb6"
  },
  {
   "cell_type": "code",
   "execution_count": 118,
   "outputs": [],
   "source": [
    "base_file_val = json.load(open(fi_val))\n",
    "\n",
    "torem = []\n",
    "for i in base_file_val['images']:\n",
    "    if i['file_name'] not in ims:\n",
    "        torem.append(i['id'])\n",
    "\n"
   ],
   "metadata": {
    "collapsed": false,
    "ExecuteTime": {
     "end_time": "2023-12-12T09:23:03.804250621Z",
     "start_time": "2023-12-12T09:23:03.696612480Z"
    }
   },
   "id": "7488cca5c705248d"
  },
  {
   "cell_type": "code",
   "execution_count": 120,
   "outputs": [
    {
     "data": {
      "text/plain": "296"
     },
     "execution_count": 120,
     "metadata": {},
     "output_type": "execute_result"
    }
   ],
   "source": [
    "len(base_file_val['images']) - len(torem)"
   ],
   "metadata": {
    "collapsed": false,
    "ExecuteTime": {
     "end_time": "2023-12-12T09:23:25.812705377Z",
     "start_time": "2023-12-12T09:23:25.733646595Z"
    }
   },
   "id": "cac9db36d0311c7a"
  },
  {
   "cell_type": "code",
   "execution_count": 121,
   "outputs": [
    {
     "name": "stdout",
     "output_type": "stream",
     "text": [
      "389\n"
     ]
    }
   ],
   "source": [
    "to_pop = []\n",
    "for idx, ann in enumerate(base_file_val['annotations']):\n",
    "    if ann['image_id'] in torem:\n",
    "        to_pop.append(idx)\n",
    "\n",
    "for i in to_pop[::-1]:\n",
    "    base_file_val['annotations'].pop(i)\n",
    "\n",
    "print(len(base_file_val['annotations']))"
   ],
   "metadata": {
    "collapsed": false,
    "ExecuteTime": {
     "end_time": "2023-12-12T09:23:45.911636024Z",
     "start_time": "2023-12-12T09:23:45.834564644Z"
    }
   },
   "id": "f97d029b513487fb"
  },
  {
   "cell_type": "code",
   "execution_count": 122,
   "outputs": [],
   "source": [
    "json.dump(base_file_val, open(fo_val,'w'))"
   ],
   "metadata": {
    "collapsed": false,
    "ExecuteTime": {
     "end_time": "2023-12-12T09:23:58.796852235Z",
     "start_time": "2023-12-12T09:23:58.701386781Z"
    }
   },
   "id": "9d138a8503aeffa9"
  },
  {
   "cell_type": "markdown",
   "source": [
    "# 36 horses tigDog"
   ],
   "metadata": {
    "collapsed": false
   },
   "id": "a1a3e101c05e64d6"
  },
  {
   "cell_type": "code",
   "execution_count": null,
   "outputs": [],
   "source": [],
   "metadata": {
    "collapsed": false
   },
   "id": "ad00e6a670f0d38f"
  },
  {
   "cell_type": "code",
   "execution_count": 73,
   "outputs": [],
   "source": [
    "fi = '/media/ebonetto/WindowsData/pose_zebras_sw/all_about_zebras/ViTPose/data/unsup_dom_adapt/real_horse_crop_17.json'\n",
    "\n",
    "ti = '/media/ebonetto/WindowsData/pose_zebras_sw/all_about_zebras/ViTPose/data/unsup_dom_adapt/real_horse_crop_17_train.json'\n",
    "train_fnames = '/media/ebonetto/WindowsData/pose_zebras_sw/all_about_zebras/ViTPose/data/unsup_dom_adapt/train_fnames.npy'\n",
    "vi = '/media/ebonetto/WindowsData/pose_zebras_sw/all_about_zebras/ViTPose/data/unsup_dom_adapt/real_horse_crop_17_val.json'\n",
    "valid_fnames = '/media/ebonetto/WindowsData/pose_zebras_sw/all_about_zebras/ViTPose/data/unsup_dom_adapt/valid_fnames.npy'\n",
    "\n",
    "train_names = np.load(train_fnames)[:,0]\n",
    "valid_names = np.load(valid_fnames)[:,0]\n",
    "\n",
    "jsonfile = json.load(open(fi,'r'))\n",
    "ids_torem = []\n",
    "for idx, img in enumerate(jsonfile['images']):\n",
    "    if img['file_name'].split(\"crop_\")[1] not in train_names:\n",
    "        ids_torem.append(img['id'])\n",
    "\n",
    "torem = []\n",
    "for idx, ann in enumerate(jsonfile['annotations']):\n",
    "    if ann['image_id'] in ids_torem:\n",
    "        torem.append(idx)\n",
    "\n",
    "for i in torem[::-1]:\n",
    "    jsonfile['annotations'].pop(i)\n",
    "json.dump(jsonfile, open(ti,'w'))\n",
    "\n",
    "jsonfile = json.load(open(fi,'r'))\n",
    "ids_torem = []\n",
    "for idx, img in enumerate(jsonfile['images']):\n",
    "    if img['file_name'].split(\"crop_\")[1] not in valid_names:\n",
    "        ids_torem.append(img['id'])\n",
    "\n",
    "torem = []\n",
    "for idx, ann in enumerate(jsonfile['annotations']):\n",
    "    if ann['image_id'] in ids_torem:\n",
    "        torem.append(idx)\n",
    "\n",
    "for i in torem[::-1]:\n",
    "    jsonfile['annotations'].pop(i)\n",
    "json.dump(jsonfile, open(vi,'w'))"
   ],
   "metadata": {
    "collapsed": false,
    "ExecuteTime": {
     "end_time": "2023-12-12T08:44:38.666013131Z",
     "start_time": "2023-12-12T08:44:35.053524481Z"
    }
   },
   "id": "1e6183420f09beae"
  },
  {
   "cell_type": "code",
   "execution_count": 79,
   "outputs": [],
   "source": [
    "ti = '/media/ebonetto/WindowsData/pose_zebras_sw/all_about_zebras/ViTPose/data/unsup_dom_adapt/real_horse_crop_27_train.json'\n",
    "vi = '/media/ebonetto/WindowsData/pose_zebras_sw/all_about_zebras/ViTPose/data/unsup_dom_adapt/real_horse_crop_27_val.json'\n",
    "tr = '/media/ebonetto/WindowsData/pose_zebras_sw/all_about_zebras/ViTPose/data/unsup_dom_adapt/real_horse_crop_27_train_red.json'\n",
    "vr = '/media/ebonetto/WindowsData/pose_zebras_sw/all_about_zebras/ViTPose/data/unsup_dom_adapt/real_horse_crop_27_val_red.json'\n",
    "\n",
    "jsonfile = json.load(open(ti,'r'))\n",
    "torem_train = random.sample(range(len(jsonfile['annotations'])), k=len(jsonfile['annotations'])-80)\n",
    "torem_train.sort()\n",
    "for i in torem_train[::-1]:\n",
    "    jsonfile['annotations'].pop(i)\n",
    "json.dump(jsonfile, open(tr,'w'))\n",
    "\n",
    "jsonfile = json.load(open(vi,'r'))\n",
    "torem_val = random.sample(range(len(jsonfile['annotations'])), k=len(jsonfile['annotations'])-19)\n",
    "torem_val.sort()\n",
    "for i in torem_val[::-1]:\n",
    "    jsonfile['annotations'].pop(i)\n",
    "json.dump(jsonfile, open(vr,'w'))"
   ],
   "metadata": {
    "collapsed": false,
    "ExecuteTime": {
     "end_time": "2023-12-12T08:48:44.744750406Z",
     "start_time": "2023-12-12T08:48:44.280930978Z"
    }
   },
   "id": "b2d44e10caa230b7"
  },
  {
   "cell_type": "code",
   "execution_count": 80,
   "outputs": [],
   "source": [
    "ti = '/media/ebonetto/WindowsData/pose_zebras_sw/all_about_zebras/ViTPose/data/unsup_dom_adapt/real_horse_crop_17_train.json'\n",
    "vi = '/media/ebonetto/WindowsData/pose_zebras_sw/all_about_zebras/ViTPose/data/unsup_dom_adapt/real_horse_crop_17_val.json'\n",
    "tr = '/media/ebonetto/WindowsData/pose_zebras_sw/all_about_zebras/ViTPose/data/unsup_dom_adapt/real_horse_crop_17_train_red.json'\n",
    "vr = '/media/ebonetto/WindowsData/pose_zebras_sw/all_about_zebras/ViTPose/data/unsup_dom_adapt/real_horse_crop_17_val_red.json'\n",
    "jsonfile = json.load(open(ti,'r'))\n",
    "for i in torem_train[::-1]:\n",
    "    jsonfile['annotations'].pop(i)\n",
    "json.dump(jsonfile, open(tr,'w'))\n",
    "\n",
    "jsonfile = json.load(open(vi,'r'))\n",
    "for i in torem_val[::-1]:\n",
    "    jsonfile['annotations'].pop(i)\n",
    "json.dump(jsonfile, open(vr,'w'))"
   ],
   "metadata": {
    "collapsed": false,
    "ExecuteTime": {
     "end_time": "2023-12-12T08:49:35.981108717Z",
     "start_time": "2023-12-12T08:49:35.522787369Z"
    }
   },
   "id": "e94cee8e9dbc63cd"
  },
  {
   "cell_type": "code",
   "execution_count": null,
   "outputs": [],
   "source": [
    "jsonfile['categories']\n"
   ],
   "metadata": {
    "collapsed": false
   },
   "id": "bfe088c420af840d"
  },
  {
   "cell_type": "code",
   "execution_count": null,
   "outputs": [],
   "source": [
    "# get full train and validations set with an 80/20 split"
   ],
   "metadata": {
    "collapsed": false
   },
   "id": "4e50a517746f375"
  },
  {
   "cell_type": "code",
   "execution_count": null,
   "outputs": [],
   "source": [
    "import json\n",
    "import os\n",
    "import numpy as np\n",
    "ti = '/media/ebonetto/WindowsData/pose_zebras_sw/all_about_zebras/ViTPose/data/unsup_dom_adapt/real_horse_crop_27_train.json'\n",
    "vi = '/media/ebonetto/WindowsData/pose_zebras_sw/all_about_zebras/ViTPose/data/unsup_dom_adapt/real_horse_crop_27_val.json'\n",
    "\n",
    "tf_17 = '/media/ebonetto/WindowsData/pose_zebras_sw/all_about_zebras/ViTPose/data/unsup_dom_adapt/real_horse_crop_17_train_full.json'\n",
    "vf_17 = '/media/ebonetto/WindowsData/pose_zebras_sw/all_about_zebras/ViTPose/data/unsup_dom_adapt/real_horse_crop_17_val_full.json'\n",
    "\n",
    "fi = '/media/ebonetto/WindowsData/pose_zebras_sw/all_about_zebras/ViTPose/data/unsup_dom_adapt/real_horse_crop_27.json'"
   ],
   "metadata": {
    "collapsed": false
   },
   "id": "956301024e70db96"
  },
  {
   "cell_type": "code",
   "execution_count": null,
   "outputs": [],
   "source": [
    "jsonfile = json.load(open(fi,'r'))\n",
    "tra_ims = []\n",
    "val_ims = []\n",
    "\n",
    "json_ti = json.load(open(ti,'r'))\n",
    "json_vi = json.load(open(vi,'r'))\n",
    "\n",
    "subset_ti = []\n",
    "subset_ti_images = []\n",
    "subset_vi = []\n",
    "subset_vi_images = []\n",
    "\n",
    "for i in json_ti['annotations']:\n",
    "    subset_ti.append(i['id'])\n",
    "    subset_ti_images.append(i['image_id'])\n",
    "\n",
    "for i in json_vi['annotations']:\n",
    "    subset_vi.append(i['id'])\n",
    "    subset_vi_images.append(i['image_id'])\n",
    "    \n",
    "cnt_ti = 0\n",
    "cnt_vi = 0\n",
    "\n",
    "for i in jsonfile['images']:\n",
    "    if i['id'] in subset_ti_images:\n",
    "        tra_ims.append(i['id'])\n",
    "    elif i['id'] in subset_vi_images:\n",
    "        val_ims.append(i['id'])\n",
    "    else:\n",
    "        if np.random.rand() < 0.8:\n",
    "            tra_ims.append(i['id'])\n",
    "        else:\n",
    "            val_ims.append(i['id'])\n"
   ],
   "metadata": {
    "collapsed": false
   },
   "id": "74a30e8600206f34"
  },
  {
   "cell_type": "code",
   "execution_count": null,
   "outputs": [],
   "source": [
    "jsonfile = json.load(open(fi,'r'))\n",
    "\n",
    "torem = []\n",
    "for idx, ann in enumerate(jsonfile['annotations']):\n",
    "    if ann['image_id'] not in tra_ims:\n",
    "        torem.append(idx)\n",
    "\n",
    "for i in torem[::-1]:\n",
    "    jsonfile['annotations'].pop(i)\n",
    "\n",
    "json.dump(jsonfile, open(tf_17,'w'))\n",
    "\n",
    "jsonfile = json.load(open(fi,'r'))\n",
    "\n",
    "torem = []\n",
    "for idx, ann in enumerate(jsonfile['annotations']):\n",
    "    if ann['image_id'] not in val_ims:\n",
    "        torem.append(idx)\n",
    "for i in torem[::-1]:\n",
    "    jsonfile['annotations'].pop(i)\n",
    "json.dump(jsonfile, open(vf_17,'w'))"
   ],
   "metadata": {
    "collapsed": false
   },
   "id": "71ae7b0f59924848"
  },
  {
   "cell_type": "code",
   "execution_count": null,
   "outputs": [],
   "source": [
    "# check\n",
    "jsonfile = json.load(open(tf_17,'r'))\n",
    "tr_im_names = {}\n",
    "for i in jsonfile['images']:\n",
    "    tr_im_names[i['id']] = i['file_name']\n",
    "    \n",
    "jsonfile = json.load(open(vf_17,'r'))\n",
    "val_im_names = {}\n",
    "for i in jsonfile['images']:\n",
    "    val_im_names[i['id']] = i['file_name']\n",
    "\n"
   ],
   "metadata": {
    "collapsed": false
   },
   "id": "997c6c7bf65f18d1"
  },
  {
   "cell_type": "code",
   "execution_count": 45,
   "outputs": [],
   "source": [
    "full_UDA = '/media/ebonetto/WindowsData/pose_zebras_sw/all_about_zebras/ViTPose/data/unsup_dom_adapt/real_horse_crop_27.json'\n",
    "full_train = '/media/ebonetto/WindowsData/pose_zebras_sw/all_about_zebras/ViTPose/data/unsup_dom_adapt/real_horse_crop_17_train_full.json'\n",
    "full_train_27 = '/media/ebonetto/WindowsData/pose_zebras_sw/all_about_zebras/ViTPose/data/unsup_dom_adapt/real_horse_crop_27_train_full.json'\n",
    "full_val = '/media/ebonetto/WindowsData/pose_zebras_sw/all_about_zebras/ViTPose/data/unsup_dom_adapt/real_horse_crop_17_val_full.json'\n",
    "full_val_27 = '/media/ebonetto/WindowsData/pose_zebras_sw/all_about_zebras/ViTPose/data/unsup_dom_adapt/real_horse_crop_27_val_full.json'\n",
    "\n",
    "nval_ann = 0\n",
    "ntrain_ann = 0\n",
    "jsonfile = json.load(open(full_train,'r'))\n",
    "ntrain_ann = len(jsonfile['annotations'])\n",
    "jsonfile = json.load(open(full_val,'r'))\n",
    "nval_ann = len(jsonfile['annotations'])\n"
   ],
   "metadata": {
    "collapsed": false,
    "ExecuteTime": {
     "end_time": "2023-12-12T08:22:02.455620838Z",
     "start_time": "2023-12-12T08:22:02.319029092Z"
    }
   },
   "id": "45e6657ea7dd322e"
  },
  {
   "cell_type": "code",
   "execution_count": 46,
   "outputs": [],
   "source": [
    "jsonfile = json.load(open(full_UDA,'r'))\n",
    "torem = []\n",
    "for idx, ann in enumerate(jsonfile['annotations']):\n",
    "    if ann['image_id'] not in tra_ims:\n",
    "        torem.append(idx)\n",
    "if len(jsonfile['annotations']) - len(torem)== ntrain_ann:\n",
    "    for i in torem[::-1]:\n",
    "        jsonfile['annotations'].pop(i)\n",
    "    json.dump(jsonfile, open(full_train_27,'w'))\n"
   ],
   "metadata": {
    "collapsed": false,
    "ExecuteTime": {
     "end_time": "2023-12-12T08:22:09.074071741Z",
     "start_time": "2023-12-12T08:22:06.921459618Z"
    }
   },
   "id": "6262b7e7bd515222"
  },
  {
   "cell_type": "code",
   "execution_count": 47,
   "outputs": [],
   "source": [
    "jsonfile = json.load(open(full_UDA,'r'))\n",
    "torem = []\n",
    "for idx, ann in enumerate(jsonfile['annotations']):\n",
    "    if ann['image_id'] not in val_ims:\n",
    "        torem.append(idx)\n",
    "if len(jsonfile['annotations']) - len(torem)== nval_ann:\n",
    "    for i in torem[::-1]:\n",
    "        jsonfile['annotations'].pop(i)\n",
    "    json.dump(jsonfile, open(full_val_27,'w'))"
   ],
   "metadata": {
    "collapsed": false,
    "ExecuteTime": {
     "end_time": "2023-12-12T08:22:29.174627674Z",
     "start_time": "2023-12-12T08:22:28.311463742Z"
    }
   },
   "id": "9b6150c3316f6eb9"
  },
  {
   "cell_type": "code",
   "execution_count": null,
   "outputs": [],
   "source": [],
   "metadata": {
    "collapsed": false
   },
   "id": "597bbbcef1fbea38"
  },
  {
   "cell_type": "code",
   "execution_count": null,
   "outputs": [],
   "source": [],
   "metadata": {
    "collapsed": false
   },
   "id": "cb293e463b907070"
  },
  {
   "cell_type": "code",
   "execution_count": 58,
   "outputs": [],
   "source": [
    "tmp = np.load('/media/ebonetto/WindowsData/train_idxs_by_video.npy')"
   ],
   "metadata": {
    "collapsed": false,
    "ExecuteTime": {
     "end_time": "2023-12-12T08:28:38.183408813Z",
     "start_time": "2023-12-12T08:28:38.027793574Z"
    }
   },
   "id": "7c5e4b676e149a86"
  },
  {
   "cell_type": "code",
   "execution_count": 61,
   "outputs": [
    {
     "data": {
      "text/plain": "8380"
     },
     "execution_count": 61,
     "metadata": {},
     "output_type": "execute_result"
    }
   ],
   "source": [
    "len(tmp)"
   ],
   "metadata": {
    "collapsed": false,
    "ExecuteTime": {
     "end_time": "2023-12-12T08:29:00.341638906Z",
     "start_time": "2023-12-12T08:29:00.178900892Z"
    }
   },
   "id": "7dfdeadade101187"
  },
  {
   "cell_type": "code",
   "execution_count": 62,
   "outputs": [],
   "source": [
    "jsonfile = json.load(open('/media/ebonetto/WindowsData/pose_zebras_sw/all_about_zebras/ViTPose/data/unsup_dom_adapt/real_horse_crop_27.json','r'))"
   ],
   "metadata": {
    "collapsed": false,
    "ExecuteTime": {
     "end_time": "2023-12-12T08:29:36.360794977Z",
     "start_time": "2023-12-12T08:29:36.114026492Z"
    }
   },
   "id": "d9005173493bbcb0"
  },
  {
   "cell_type": "code",
   "execution_count": 63,
   "outputs": [
    {
     "data": {
      "text/plain": "{'id': 0, 'file_name': 'crop_00018004.jpg', 'width': 256, 'height': 256}"
     },
     "execution_count": 63,
     "metadata": {},
     "output_type": "execute_result"
    }
   ],
   "source": [
    "jsonfile['images'][0]"
   ],
   "metadata": {
    "collapsed": false,
    "ExecuteTime": {
     "end_time": "2023-12-12T08:29:39.457647649Z",
     "start_time": "2023-12-12T08:29:39.252233908Z"
    }
   },
   "id": "b188f72512646cb2"
  },
  {
   "cell_type": "code",
   "execution_count": null,
   "outputs": [],
   "source": [],
   "metadata": {
    "collapsed": false
   },
   "id": "bd468c67a76991b7"
  }
 ],
 "metadata": {
  "kernelspec": {
   "display_name": "Python 3 (ipykernel)",
   "language": "python",
   "name": "python3"
  },
  "language_info": {
   "codemirror_mode": {
    "name": "ipython",
    "version": 3
   },
   "file_extension": ".py",
   "mimetype": "text/x-python",
   "name": "python",
   "nbconvert_exporter": "python",
   "pygments_lexer": "ipython3",
   "version": "3.8.10"
  }
 },
 "nbformat": 4,
 "nbformat_minor": 5
}
